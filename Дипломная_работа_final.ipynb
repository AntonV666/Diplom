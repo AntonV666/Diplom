{
  "nbformat": 4,
  "nbformat_minor": 0,
  "metadata": {
    "colab": {
      "provenance": [],
      "authorship_tag": "ABX9TyO43iHkKvHp9wH4Lze94ct7",
      "include_colab_link": true
    },
    "kernelspec": {
      "name": "python3",
      "display_name": "Python 3"
    },
    "language_info": {
      "name": "python"
    }
  },
  "cells": [
    {
      "cell_type": "markdown",
      "metadata": {
        "id": "view-in-github",
        "colab_type": "text"
      },
      "source": [
        "<a href=\"https://colab.research.google.com/github/AntonV666/Diplom/blob/main/%D0%94%D0%B8%D0%BF%D0%BB%D0%BE%D0%BC%D0%BD%D0%B0%D1%8F_%D1%80%D0%B0%D0%B1%D0%BE%D1%82%D0%B0_final.ipynb\" target=\"_parent\"><img src=\"https://colab.research.google.com/assets/colab-badge.svg\" alt=\"Open In Colab\"/></a>"
      ]
    },
    {
      "cell_type": "markdown",
      "source": [
        "**ДИПЛОМНАЯ ПРОЕКТ \"Рекомендательная система по формированию инвестиционного портфеля\"**"
      ],
      "metadata": {
        "id": "eDLOAvqr8j7j"
      }
    },
    {
      "cell_type": "markdown",
      "source": [
        "# Подготовка данных"
      ],
      "metadata": {
        "id": "UBEKet7L82Et"
      }
    },
    {
      "cell_type": "code",
      "source": [
        "# Загружаем необходимые библиотеки\n",
        "import os                                                                                           # Библиотека для работы с операционной системой\n",
        "import numpy as np                                                                                  # Библиотека для работы с NumPy массивами\n",
        "import pandas as pd                                                                                 # Библиотека для работы с Pandas таблицами\n",
        "from google.colab import drive                                                                      # Библитека для подключения google диска к colab\n",
        "import matplotlib.pyplot as plt                                                                     # Библиотека для отрисовки графиков, диаграмм\n",
        "from tensorflow.keras import utils                                                                  # Модуль OneHotEncoder (для преобразования категориальных или текстовых данных в числа)\n",
        "from tensorflow.keras.optimizers import Adam                                                        # Оптимизатор Adam\n",
        "from sklearn.model_selection import train_test_split                                                # Модуль для разбивки на выборки\n",
        "from tensorflow.keras.models import Sequential, Model                                               # Загрузка модель Sequential\n",
        "from tensorflow.keras.layers import Input, Dense, Dropout, BatchNormalization, Flatten              # Загрузка слоев для нейронной сети"
      ],
      "metadata": {
        "id": "ml1j4jytFuSf"
      },
      "execution_count": null,
      "outputs": []
    },
    {
      "cell_type": "code",
      "source": [
        "# Создаём функцию, которая будет монтировать Google диск и загружать датасет из Excel файла\n",
        "def load_dataset_from_drive(file_path):                   # Задаем функцию load_dataset_from_drive\n",
        "  drive.mount('/content/drive')                           # Указываем путь к google диск\n",
        "  dataset = pd.read_excel(file_path)                      # Задаем в переменную dataset Excel файл, указываем путь\n",
        "  return dataset                                          # Функция возвратит переменную dataset"
      ],
      "metadata": {
        "id": "6gIKxhX3A315"
      },
      "execution_count": null,
      "outputs": []
    },
    {
      "cell_type": "code",
      "source": [
        "# Вызваем функцию и загружаем датасет из Excel файла\n",
        "file_path = '/content/drive/MyDrive/Диплом/dataset.xlsx'  # Указываем путь к датасету на google диске\n",
        "dataset = load_dataset_from_drive(file_path)              # Вызываем переменную dataset"
      ],
      "metadata": {
        "id": "PAqwSPssCqR5",
        "colab": {
          "base_uri": "https://localhost:8080/"
        },
        "outputId": "13f078fd-f69a-4b7d-dbdb-bf382b2bbadc"
      },
      "execution_count": null,
      "outputs": [
        {
          "output_type": "stream",
          "name": "stdout",
          "text": [
            "Mounted at /content/drive\n"
          ]
        }
      ]
    },
    {
      "cell_type": "markdown",
      "source": [
        "Создадим функции для преобразования данных из датасета в набор данных xTrain, yTrain"
      ],
      "metadata": {
        "id": "88RNSaDJWe3v"
      }
    },
    {
      "cell_type": "code",
      "source": [
        "# Создаем функцию для преобразования данных о риск-профиле пользователя в категории риск-профиля\n",
        "def getParameterRiskProfile(arg):                         # Задаем функцию getParameterRiskProfile\n",
        "  out = [0, 0, 0]                                         # На выходе получим вектор в виде OneHotEncoder\n",
        "  if ('Консервативный' in arg):     out[0]=1              # Задаем условие, если аргумент примет значение 'Консервативный', то нулевой индекс вектора OUT примет значение '1'\n",
        "  if ('Умеренный' in arg):          out[1]=1              # Задаем условие, если аргумент примет значение 'Умеренный', то первый индекс вектора OUT примет значение '1'\n",
        "  if ('Агрессивный' in arg):        out[2]=1              # Задаем условие, если аргумент примет значение 'Агрессивный', то второй индекс вектора OUT примет значение '1'\n",
        "  return out                                              # Функция возвратит значение out\n",
        "\n",
        "\n",
        "# Создаем функцию для преобразования данных о возрасте пользователя в возрастную категорию\n",
        "def getParameterAgeVect(arg):                             # Задаем функцию getParameterAgeVect\n",
        "  out = [0, 0, 0, 0, 0, 0, 0]                             # На выходе получим вектор в виде OneHotEncoder\n",
        "  if ('до 18' in arg):              out[0]=1              # Задаем условие, если аргумент примет значение 'до 18', то нулевой индекс вектора OUT примет значение '1'\n",
        "  if ('18 - 25' in arg):            out[1]=1              # Задаем условие, если аргумент примет значение '18 - 25', то первый индекс вектора OUT примет значение '1'\n",
        "  if ('25 - 35' in arg):            out[2]=1              # Задаем условие, если аргумент примет значение '25 - 35', то второй индекс вектора OUT примет значение '1'\n",
        "  if ('35 - 45' in arg):            out[3]=1              # Задаем условие, если аргумент примет значение '35 - 45', то третий индекс вектора OUT примет значение '1'\n",
        "  if ('45 - 55' in arg):            out[4]=1              # Задаем условие, если аргумент примет значение '45 - 55', то четвертый индекс вектора OUT примет значение '1'\n",
        "  if ('55 - 65' in arg):            out[5]=1              # Задаем условие, если аргумент примет значение '55 - 65', то пятый индекс вектора OUT примет значение '1'\n",
        "  if ('более 65' in arg):           out[6]=1              # Задаем условие, если аргумент примет значение 'более 65', то шестой индекс вектора OUT примет значение '1'\n",
        "  return out                                              # Функция возвратит значение out\n",
        "\n",
        "\n",
        "# Создаем функцию для преобразования срока инвестирования в категорию\n",
        "def getParameterTimeInv(arg):                             # Задаем функцию getParameterTimeInv\n",
        "  out = [0, 0, 0, 0, 0, 0]                                # На выходе получим вектор в виде OneHotEncoder\n",
        "  if ('до 1 года' in arg):          out[0]=1              # Задаем условие, если аргумент примет значение 'до 1 года', то нулевой индекс вектора OUT примет значение '1'\n",
        "  if ('1 - 3 лет' in arg):          out[1]=1              # Задаем условие, если аргумент примет значение '1 - 3 лет', то первый индекс вектора OUT примет значение '1'\n",
        "  if ('3 - 5 лет' in arg):          out[2]=1              # Задаем условие, если аргумент примет значение '3 - 5 лет', то второй индекс вектора OUT примет значение '1'\n",
        "  if ('5 - 10 лет' in arg):         out[3]=1              # Задаем условие, если аргумент примет значение '5 - 10 лет', то третий индекс вектора OUT примет значение '1'\n",
        "  if ('10 - 20 лет' in arg):        out[4]=1              # Задаем условие, если аргумент примет значение '10 - 20 лет', то четвертый индекс вектора OUT примет значение '1'\n",
        "  if ('более 20 лет' in arg):       out[5]=1              # Задаем условие, если аргумент примет значение 'более 20 лет', то пятый индекс вектора OUT примет значение '1'\n",
        "  return out                                              # Функция возвратит значение out\n",
        "\n",
        "\n",
        "# Создаем функцию для преобразования начального капитала в категорию\n",
        "def getParameterStartCapital(arg):                        # Задаем функцию getParameterStartCapital\n",
        "  out = [0, 0, 0, 0, 0]                                   # На выходе получим вектор в виде OneHotEncoder\n",
        "  if ('до 100 т.р.' in arg):        out[0]=1              # Задаем условие, если аргумент примет значение 'до 100 т.р.', то нулевой индекс вектора OUT примет значение '1'\n",
        "  if ('100 - 500 т.р.' in arg):     out[1]=1              # Задаем условие, если аргумент примет значение '100 - 500 т.р.', то первый индекс вектора OUT примет значение '1'\n",
        "  if ('500 т.р. - 1 млн.р' in arg): out[2]=1              # Задаем условие, если аргумент примет значение '500 т.р. - 1 млн.р', то второй индекс вектора OUT примет значение '1'\n",
        "  if ('1 - 5 млн.р.' in arg):       out[3]=1              # Задаем условие, если аргумент примет значение '1 - 5 млн.р.', то третий индекс вектора OUT примет значение '1'\n",
        "  if ('более 5 млн.р' in arg):      out[4]=1              # Задаем условие, если аргумент примет значение 'более 5 млн.р', то четвертй индекс вектора OUT примет значение '1'\n",
        "  return out                                              # Функция возвратит значение out\n",
        "\n",
        "\n",
        "# Создаем функцию для преобразования ежемесячных пополнений в категорию\n",
        "def getParameterMonthReplenishment(arg):                  # Задаем функцию getParameterMonthReplenishment\n",
        "  out = [0, 0, 0, 0]                                      # На выходе получим вектор в виде OneHotEncoder\n",
        "  if ('до 10 т.р.' in arg):        out[0]=1               # Задаем условие, если аргумент примет значение 'до 10 т.р.', то нулевой индекс вектора OUT примет значение '1'\n",
        "  if ('10 - 50 т.р.' in arg):      out[1]=1               # Задаем условие, если аргумент примет значение '10 - 50 т.р.', то нулевой индекс вектора OUT примет значение '1'\n",
        "  if ('50 - 100 т.р.' in arg):     out[2]=1               # Задаем условие, если аргумент примет значение '50 - 100 т.р.', то нулевой индекс вектора OUT примет значение '1'\n",
        "  if ('более 100 т.р.' in arg):    out[3]=1               # Задаем условие, если аргумент примет значение 'более 100 т.р.', то нулевой индекс вектора OUT примет значение '1'\n",
        "  return out                                              # Функция возвратит значение out\n",
        "\n",
        "\n",
        "# Создаем функцию для преобразования доли акций в портфеле в категорию\n",
        "def getParameterStock(arg):                               # Задаем функцию getParameterMonthReplenishment\n",
        "    num = arg                                             # Присваиваем аргументу значение num\n",
        "    stockStr = float(num)                                 # В переменную stockStr записываем значение num в формате float\n",
        "    return stockStr                                       # Функция возвратит значение stockStr\n",
        "\n",
        "\n",
        "# Создаем функцию для преобразования доли облигаций в портфеле в категорию\n",
        "def getParameterBond(arg):                                # Задаем функцию getParameterBond\n",
        "    num = arg                                             # Присваиваем аргументу значение num\n",
        "    bondStr = float(num)                                  # В переменную bondStr записываем значение num в формате float\n",
        "    return bondStr                                        # Функция возвратит значение bondStr\n",
        "\n",
        "\n",
        "# Создаем функцию для преобразования доли банковского депозита в портфеле в категорию\n",
        "def getParameterBankDeposit(arg):                         # Задаем функцию getParameterBankDeposit\n",
        "    num = arg                                             # Присваиваем аргументу значение num\n",
        "    depositStr = float(num)                               # В переменную depositStr записываем значение num в формате float\n",
        "    return depositStr                                     # Функция возвратит значение depositStr\n",
        "\n",
        "\n",
        "# Создаем функцию для извлечения параметров, которые будем предсказывать (доли акций, облигаций и депозита в портфеле)\n",
        "def getPredictionParameters(val):                         # Задаем функцию getPredictionParameters\n",
        "  stock = getParameterStock(val[5])                       # В переменную stock записываем значения из 5 столбца\n",
        "  bond = getParameterBond(val[6])                         # В переменную bond записываем значения из 6 столбца\n",
        "  deposit = getParameterBankDeposit(val[7])               # В переменную deposit записываем значения из 7 столбца\n",
        "  out = []                                                # Создаем пустой список OUT, для добавления в него элементов\n",
        "\n",
        "\n",
        "# Склеиваем все параметры в вектор\n",
        "  out.append(bond)                                        # Добавляем в список OUT все элементы переменной bond\n",
        "  out.append(stock)                                       # Добавляем в список OUT все элементы переменной stock\n",
        "  out.append(deposit)                                     # Добавляем в список OUT все элементы переменной deposit\n",
        "  return out                                              # Функция возвратит значение out\n",
        "\n",
        "\n",
        "# Создаем функцию для извлечения параметров на которых будем проводить обучение модели\n",
        "def getAllParameters(val):                                # Задаем функцию getAllParameters\n",
        "  risk = getParameterRiskProfile(val[0])                  # В переменную risk записываем значения из 0 столбца\n",
        "  age = getParameterAgeVect(val[1])                       # В переменную risk записываем значения из 1 столбца\n",
        "  time = getParameterTimeInv(val[2])                      # В переменную risk записываем значения из 2 столбца\n",
        "  capital = getParameterStartCapital(val[3])              # В переменную risk записываем значения из 3 столбца\n",
        "  replenishment = getParameterMonthReplenishment(val[4])  # В переменную risk записываем значения из 4 столбца\n",
        "  out = []                                                # Создаем пустой список OUT, для добавления в него элементов\n",
        "\n",
        "\n",
        "# Склеиваем все параметры в вектор\n",
        "  out += risk                                             # Добавляем в список OUT все элементы переменной risk\n",
        "  out += age                                              # Добавляем в список OUT все элементы переменной age\n",
        "  out += time                                             # Добавляем в список OUT все элементы переменной time\n",
        "  out += capital                                          # Добавляем в список OUT все элементы переменной capital\n",
        "  out += replenishment                                    # Добавляем в список OUT все элементы переменной replenishment\n",
        "  return out                                              # Функция возвратит значение out\n",
        "\n",
        "\n",
        "# Создаем функцию для формирования тренировочной выборки\n",
        "def get01Data(values):                                    # Задаем функцию get01Data\n",
        "  xTrain = []                                             # Создаем пустой список xTrain\n",
        "  yTrain = []                                             # Создаем пустой список yTrain\n",
        "\n",
        "  for val in values:                                      # Проходимся циклом\n",
        "    y = getPredictionParameters(val)                      # В y записываем значения getPredictionParameters\n",
        "    x = getAllParameters(val)                             # В x записываем значения getAllParameters\n",
        "    xTrain.append(x)                                      # Значения x добавляем в выборку xTrain\n",
        "    yTrain.append(y)                                      # Значения y добавляем в выборку yTrain\n",
        "\n",
        "  xTrain = np.array(xTrain)                               # Преобразуем выборку xTrain в NumPy массив\n",
        "  yTrain = np.array(yTrain)                               # Преобразуем выборку yTrain в NumPy массив\n",
        "\n",
        "  return (xTrain, yTrain)                                 # Функция возвратит значения xTrain и yTrain"
      ],
      "metadata": {
        "id": "PYKYJOJLPyd3"
      },
      "execution_count": null,
      "outputs": []
    },
    {
      "cell_type": "code",
      "source": [
        "# Извлекаем значения загруженного набора данных\n",
        "(xTrain, yTrain) = get01Data(dataset.values)"
      ],
      "metadata": {
        "id": "GfCqji4aWiPI"
      },
      "execution_count": null,
      "outputs": []
    },
    {
      "cell_type": "markdown",
      "source": [
        "Создадим функцию среднего значения ошибки"
      ],
      "metadata": {
        "id": "Xz0VU3GJEteP"
      }
    },
    {
      "cell_type": "code",
      "source": [
        "# Функция calculate_average_error принимает модель (model), входные данные (xTrain) и целевые значения (yTrain) в качестве параметров и возвращает среднее значение ошибки.\n",
        "def calculate_average_error(model, xTrain, yTrain):          # Задаем функцию calculate_average_error\n",
        "    y_pred = model.predict(xTrain)                           # Производим предсказание y_pred\n",
        "    y_pred_ = y_pred.flatten()                               # Преобразуем данные в вектор для дальнейших расчетов\n",
        "    yTrain_ = yTrain.flatten()                               # Преобразуем данные в вектор для дальнейших расчетов\n",
        "    delta = y_pred_ - yTrain_                                # Считаем разницу между значением предсказания и заданным значением\n",
        "    absDelta = abs(delta)                                    # Приводим разничу к абсалютному значению\n",
        "    average_error = round(sum(absDelta) / len(absDelta), 3)  # Производим расчет среднего значения ошибки, округляем до трех знаков после запятой\n",
        "\n",
        "    return average_error                                     # Функция возвратит значение average_error"
      ],
      "metadata": {
        "id": "D66QmMfWEyYF"
      },
      "execution_count": null,
      "outputs": []
    },
    {
      "cell_type": "markdown",
      "source": [
        "# Нейронная модель"
      ],
      "metadata": {
        "id": "xL4l1EasQiOK"
      }
    },
    {
      "cell_type": "code",
      "source": [
        "# Обучаем модель\n",
        "model = Sequential()                                                            # Создаём экземпляр модели\n",
        "model.add(Dense(32, input_shape=(xTrain.shape[1],)))                            # Добавляем полносвязный Dense слой на 32 нейрона, на вход принимаем 25 нейронов (xTrain.shape[1])\n",
        "model.add(Dense(1024, activation='tanh'))                                       # Добавляем полносвязный Dense слой на 1024 нейрона с активационной функцией tanh\n",
        "model.add(Dense(256, activation='relu'))                                        # Добавляем полносвязный Dense слой на 256 нейронов с активационной функцией relu\n",
        "model.add(Dense(3, activation='softmax'))                                       # Добавляем полносвязный Dense слой на 3 нейрона с активационной функцией softmax\n",
        "\n",
        "model.compile(optimizer=Adam(learning_rate=1e-4), loss='mse', metrics=['mae'])  # Компилируем модель, задаем оптимизатор и шаг обучения, функция потерь: средняя квадратичная\n",
        "                                                                                # ошибка (MSE),  метрика: средняя абсолютная ошибка (MAE)\n",
        "\n",
        "history = model.fit(xTrain,                                                     # Обучаем модель, обучающая выборка, входные данные\n",
        "                    yTrain,                                                     # Обучающая выборка, выходные данные\n",
        "                    epochs=100,                                                 # Количество эпох, когда нейронка обучается на всех примерах выборк\n",
        "                    batch_size=32,                                              # Количество примеров, которое обрабатывает нейронка перед одним изменением весов\n",
        "                    validation_split=0.15,                                      # Указываем долю валидационной выборки\n",
        "                    verbose=2)                                                  # Визуализация хода обучения\n",
        "\n",
        "plt.plot(history.history['mae'],                                                # Рисование графика обучения\n",
        "         label='Средняя абсолютная ошибка на обучающем наборе')                 # Указываем название графика\n",
        "plt.plot(history.history['val_mae'],                                            # Рисование графика обучения\n",
        "         label='Средняя абсолютная ошибка на проверочном наборе')               # Указываем название графика\n",
        "plt.xlabel('Эпоха обучения')                                                    # Указываем подпись оси х\n",
        "plt.ylabel('Средняя абсолютная ошибка')                                         # Указываем подпись оси y\n",
        "plt.legend()                                                                    # Отображение легенды на графике\n",
        "plt.show()                                                                      # Фиксация (вывод) графика"
      ],
      "metadata": {
        "id": "fBuBmPmAQta5",
        "colab": {
          "base_uri": "https://localhost:8080/",
          "height": 1000
        },
        "outputId": "a99399c6-db03-4bee-ec10-d0c575898755"
      },
      "execution_count": null,
      "outputs": [
        {
          "output_type": "stream",
          "name": "stdout",
          "text": [
            "Epoch 1/100\n",
            "67/67 - 2s - loss: 0.0863 - mae: 0.2466 - val_loss: 0.0523 - val_mae: 0.1877 - 2s/epoch - 32ms/step\n",
            "Epoch 2/100\n",
            "67/67 - 0s - loss: 0.0318 - mae: 0.1455 - val_loss: 0.0226 - val_mae: 0.1150 - 493ms/epoch - 7ms/step\n",
            "Epoch 3/100\n",
            "67/67 - 1s - loss: 0.0119 - mae: 0.0875 - val_loss: 0.0123 - val_mae: 0.0830 - 532ms/epoch - 8ms/step\n",
            "Epoch 4/100\n",
            "67/67 - 0s - loss: 0.0071 - mae: 0.0649 - val_loss: 0.0082 - val_mae: 0.0670 - 485ms/epoch - 7ms/step\n",
            "Epoch 5/100\n",
            "67/67 - 1s - loss: 0.0054 - mae: 0.0550 - val_loss: 0.0071 - val_mae: 0.0603 - 715ms/epoch - 11ms/step\n",
            "Epoch 6/100\n",
            "67/67 - 1s - loss: 0.0045 - mae: 0.0493 - val_loss: 0.0050 - val_mae: 0.0500 - 710ms/epoch - 11ms/step\n",
            "Epoch 7/100\n",
            "67/67 - 1s - loss: 0.0039 - mae: 0.0453 - val_loss: 0.0043 - val_mae: 0.0460 - 736ms/epoch - 11ms/step\n",
            "Epoch 8/100\n",
            "67/67 - 1s - loss: 0.0034 - mae: 0.0419 - val_loss: 0.0036 - val_mae: 0.0418 - 663ms/epoch - 10ms/step\n",
            "Epoch 9/100\n",
            "67/67 - 1s - loss: 0.0030 - mae: 0.0394 - val_loss: 0.0030 - val_mae: 0.0384 - 685ms/epoch - 10ms/step\n",
            "Epoch 10/100\n",
            "67/67 - 1s - loss: 0.0027 - mae: 0.0365 - val_loss: 0.0026 - val_mae: 0.0348 - 717ms/epoch - 11ms/step\n",
            "Epoch 11/100\n",
            "67/67 - 0s - loss: 0.0025 - mae: 0.0348 - val_loss: 0.0024 - val_mae: 0.0326 - 481ms/epoch - 7ms/step\n",
            "Epoch 12/100\n",
            "67/67 - 0s - loss: 0.0022 - mae: 0.0327 - val_loss: 0.0022 - val_mae: 0.0317 - 418ms/epoch - 6ms/step\n",
            "Epoch 13/100\n",
            "67/67 - 0s - loss: 0.0020 - mae: 0.0309 - val_loss: 0.0022 - val_mae: 0.0308 - 408ms/epoch - 6ms/step\n",
            "Epoch 14/100\n",
            "67/67 - 0s - loss: 0.0018 - mae: 0.0296 - val_loss: 0.0018 - val_mae: 0.0283 - 459ms/epoch - 7ms/step\n",
            "Epoch 15/100\n",
            "67/67 - 0s - loss: 0.0016 - mae: 0.0278 - val_loss: 0.0018 - val_mae: 0.0276 - 473ms/epoch - 7ms/step\n",
            "Epoch 16/100\n",
            "67/67 - 0s - loss: 0.0015 - mae: 0.0263 - val_loss: 0.0016 - val_mae: 0.0264 - 477ms/epoch - 7ms/step\n",
            "Epoch 17/100\n",
            "67/67 - 0s - loss: 0.0014 - mae: 0.0252 - val_loss: 0.0015 - val_mae: 0.0250 - 473ms/epoch - 7ms/step\n",
            "Epoch 18/100\n",
            "67/67 - 0s - loss: 0.0013 - mae: 0.0241 - val_loss: 0.0014 - val_mae: 0.0243 - 457ms/epoch - 7ms/step\n",
            "Epoch 19/100\n",
            "67/67 - 0s - loss: 0.0012 - mae: 0.0227 - val_loss: 0.0013 - val_mae: 0.0237 - 459ms/epoch - 7ms/step\n",
            "Epoch 20/100\n",
            "67/67 - 0s - loss: 0.0011 - mae: 0.0221 - val_loss: 0.0013 - val_mae: 0.0236 - 431ms/epoch - 6ms/step\n",
            "Epoch 21/100\n",
            "67/67 - 0s - loss: 0.0010 - mae: 0.0212 - val_loss: 0.0012 - val_mae: 0.0218 - 465ms/epoch - 7ms/step\n",
            "Epoch 22/100\n",
            "67/67 - 0s - loss: 9.7156e-04 - mae: 0.0206 - val_loss: 0.0011 - val_mae: 0.0211 - 417ms/epoch - 6ms/step\n",
            "Epoch 23/100\n",
            "67/67 - 0s - loss: 9.0795e-04 - mae: 0.0199 - val_loss: 0.0010 - val_mae: 0.0205 - 422ms/epoch - 6ms/step\n",
            "Epoch 24/100\n",
            "67/67 - 0s - loss: 8.6071e-04 - mae: 0.0193 - val_loss: 0.0010 - val_mae: 0.0203 - 449ms/epoch - 7ms/step\n",
            "Epoch 25/100\n",
            "67/67 - 0s - loss: 8.0159e-04 - mae: 0.0186 - val_loss: 9.5593e-04 - val_mae: 0.0194 - 462ms/epoch - 7ms/step\n",
            "Epoch 26/100\n",
            "67/67 - 0s - loss: 7.5193e-04 - mae: 0.0179 - val_loss: 8.9723e-04 - val_mae: 0.0191 - 463ms/epoch - 7ms/step\n",
            "Epoch 27/100\n",
            "67/67 - 0s - loss: 7.1437e-04 - mae: 0.0174 - val_loss: 8.4400e-04 - val_mae: 0.0183 - 464ms/epoch - 7ms/step\n",
            "Epoch 28/100\n",
            "67/67 - 0s - loss: 6.6018e-04 - mae: 0.0166 - val_loss: 8.7897e-04 - val_mae: 0.0186 - 451ms/epoch - 7ms/step\n",
            "Epoch 29/100\n",
            "67/67 - 0s - loss: 6.2301e-04 - mae: 0.0162 - val_loss: 7.7451e-04 - val_mae: 0.0176 - 420ms/epoch - 6ms/step\n",
            "Epoch 30/100\n",
            "67/67 - 0s - loss: 6.0084e-04 - mae: 0.0158 - val_loss: 7.2283e-04 - val_mae: 0.0170 - 478ms/epoch - 7ms/step\n",
            "Epoch 31/100\n",
            "67/67 - 0s - loss: 5.5802e-04 - mae: 0.0154 - val_loss: 7.2387e-04 - val_mae: 0.0172 - 424ms/epoch - 6ms/step\n",
            "Epoch 32/100\n",
            "67/67 - 0s - loss: 5.3131e-04 - mae: 0.0150 - val_loss: 6.7666e-04 - val_mae: 0.0164 - 442ms/epoch - 7ms/step\n",
            "Epoch 33/100\n",
            "67/67 - 1s - loss: 5.0365e-04 - mae: 0.0144 - val_loss: 6.2291e-04 - val_mae: 0.0159 - 628ms/epoch - 9ms/step\n",
            "Epoch 34/100\n",
            "67/67 - 1s - loss: 4.6966e-04 - mae: 0.0139 - val_loss: 5.9089e-04 - val_mae: 0.0156 - 644ms/epoch - 10ms/step\n",
            "Epoch 35/100\n",
            "67/67 - 1s - loss: 4.3971e-04 - mae: 0.0134 - val_loss: 5.9464e-04 - val_mae: 0.0156 - 656ms/epoch - 10ms/step\n",
            "Epoch 36/100\n",
            "67/67 - 1s - loss: 4.2026e-04 - mae: 0.0132 - val_loss: 5.5730e-04 - val_mae: 0.0147 - 628ms/epoch - 9ms/step\n",
            "Epoch 37/100\n",
            "67/67 - 1s - loss: 3.9455e-04 - mae: 0.0126 - val_loss: 5.2512e-04 - val_mae: 0.0150 - 670ms/epoch - 10ms/step\n",
            "Epoch 38/100\n",
            "67/67 - 1s - loss: 3.7855e-04 - mae: 0.0125 - val_loss: 5.2736e-04 - val_mae: 0.0147 - 689ms/epoch - 10ms/step\n",
            "Epoch 39/100\n",
            "67/67 - 1s - loss: 3.7848e-04 - mae: 0.0128 - val_loss: 5.1343e-04 - val_mae: 0.0148 - 711ms/epoch - 11ms/step\n",
            "Epoch 40/100\n",
            "67/67 - 0s - loss: 3.5428e-04 - mae: 0.0122 - val_loss: 5.0771e-04 - val_mae: 0.0142 - 450ms/epoch - 7ms/step\n",
            "Epoch 41/100\n",
            "67/67 - 0s - loss: 3.3155e-04 - mae: 0.0117 - val_loss: 4.5353e-04 - val_mae: 0.0137 - 443ms/epoch - 7ms/step\n",
            "Epoch 42/100\n",
            "67/67 - 0s - loss: 3.0483e-04 - mae: 0.0111 - val_loss: 4.2519e-04 - val_mae: 0.0131 - 460ms/epoch - 7ms/step\n",
            "Epoch 43/100\n",
            "67/67 - 0s - loss: 2.9126e-04 - mae: 0.0108 - val_loss: 3.9874e-04 - val_mae: 0.0127 - 444ms/epoch - 7ms/step\n",
            "Epoch 44/100\n",
            "67/67 - 0s - loss: 2.8547e-04 - mae: 0.0107 - val_loss: 3.9571e-04 - val_mae: 0.0124 - 414ms/epoch - 6ms/step\n",
            "Epoch 45/100\n",
            "67/67 - 0s - loss: 2.7171e-04 - mae: 0.0104 - val_loss: 3.5038e-04 - val_mae: 0.0115 - 434ms/epoch - 6ms/step\n",
            "Epoch 46/100\n",
            "67/67 - 0s - loss: 2.6357e-04 - mae: 0.0103 - val_loss: 3.4988e-04 - val_mae: 0.0117 - 475ms/epoch - 7ms/step\n",
            "Epoch 47/100\n",
            "67/67 - 0s - loss: 2.4358e-04 - mae: 0.0098 - val_loss: 3.3087e-04 - val_mae: 0.0115 - 473ms/epoch - 7ms/step\n",
            "Epoch 48/100\n",
            "67/67 - 0s - loss: 2.2835e-04 - mae: 0.0094 - val_loss: 3.5204e-04 - val_mae: 0.0117 - 423ms/epoch - 6ms/step\n",
            "Epoch 49/100\n",
            "67/67 - 0s - loss: 2.2090e-04 - mae: 0.0092 - val_loss: 3.2620e-04 - val_mae: 0.0115 - 477ms/epoch - 7ms/step\n",
            "Epoch 50/100\n",
            "67/67 - 0s - loss: 2.1577e-04 - mae: 0.0091 - val_loss: 2.8781e-04 - val_mae: 0.0105 - 442ms/epoch - 7ms/step\n",
            "Epoch 51/100\n",
            "67/67 - 0s - loss: 1.9846e-04 - mae: 0.0087 - val_loss: 2.7923e-04 - val_mae: 0.0104 - 403ms/epoch - 6ms/step\n",
            "Epoch 52/100\n",
            "67/67 - 0s - loss: 1.9743e-04 - mae: 0.0086 - val_loss: 3.0688e-04 - val_mae: 0.0109 - 465ms/epoch - 7ms/step\n",
            "Epoch 53/100\n",
            "67/67 - 0s - loss: 2.1153e-04 - mae: 0.0092 - val_loss: 2.7528e-04 - val_mae: 0.0106 - 449ms/epoch - 7ms/step\n",
            "Epoch 54/100\n",
            "67/67 - 0s - loss: 1.8567e-04 - mae: 0.0084 - val_loss: 2.3908e-04 - val_mae: 0.0095 - 415ms/epoch - 6ms/step\n",
            "Epoch 55/100\n",
            "67/67 - 0s - loss: 1.8471e-04 - mae: 0.0083 - val_loss: 2.3335e-04 - val_mae: 0.0093 - 400ms/epoch - 6ms/step\n",
            "Epoch 56/100\n",
            "67/67 - 0s - loss: 1.8267e-04 - mae: 0.0083 - val_loss: 2.6917e-04 - val_mae: 0.0105 - 439ms/epoch - 7ms/step\n",
            "Epoch 57/100\n",
            "67/67 - 0s - loss: 1.7570e-04 - mae: 0.0082 - val_loss: 2.1757e-04 - val_mae: 0.0091 - 444ms/epoch - 7ms/step\n",
            "Epoch 58/100\n",
            "67/67 - 0s - loss: 1.6352e-04 - mae: 0.0077 - val_loss: 2.1378e-04 - val_mae: 0.0091 - 409ms/epoch - 6ms/step\n",
            "Epoch 59/100\n",
            "67/67 - 0s - loss: 1.6272e-04 - mae: 0.0078 - val_loss: 3.0563e-04 - val_mae: 0.0109 - 446ms/epoch - 7ms/step\n",
            "Epoch 60/100\n",
            "67/67 - 0s - loss: 1.7819e-04 - mae: 0.0083 - val_loss: 2.2140e-04 - val_mae: 0.0093 - 435ms/epoch - 6ms/step\n",
            "Epoch 61/100\n",
            "67/67 - 0s - loss: 1.6443e-04 - mae: 0.0079 - val_loss: 2.0257e-04 - val_mae: 0.0088 - 404ms/epoch - 6ms/step\n",
            "Epoch 62/100\n",
            "67/67 - 1s - loss: 1.3398e-04 - mae: 0.0068 - val_loss: 1.7562e-04 - val_mae: 0.0081 - 509ms/epoch - 8ms/step\n",
            "Epoch 63/100\n",
            "67/67 - 1s - loss: 1.3388e-04 - mae: 0.0067 - val_loss: 2.0033e-04 - val_mae: 0.0088 - 656ms/epoch - 10ms/step\n",
            "Epoch 64/100\n",
            "67/67 - 1s - loss: 1.6598e-04 - mae: 0.0079 - val_loss: 1.9100e-04 - val_mae: 0.0085 - 666ms/epoch - 10ms/step\n",
            "Epoch 65/100\n",
            "67/67 - 1s - loss: 1.3502e-04 - mae: 0.0069 - val_loss: 1.8064e-04 - val_mae: 0.0084 - 651ms/epoch - 10ms/step\n",
            "Epoch 66/100\n",
            "67/67 - 1s - loss: 1.2701e-04 - mae: 0.0066 - val_loss: 1.9307e-04 - val_mae: 0.0086 - 635ms/epoch - 9ms/step\n",
            "Epoch 67/100\n",
            "67/67 - 1s - loss: 1.3907e-04 - mae: 0.0071 - val_loss: 2.2074e-04 - val_mae: 0.0090 - 690ms/epoch - 10ms/step\n",
            "Epoch 68/100\n",
            "67/67 - 1s - loss: 1.3672e-04 - mae: 0.0070 - val_loss: 1.5927e-04 - val_mae: 0.0077 - 664ms/epoch - 10ms/step\n",
            "Epoch 69/100\n",
            "67/67 - 0s - loss: 1.2785e-04 - mae: 0.0067 - val_loss: 1.7374e-04 - val_mae: 0.0082 - 443ms/epoch - 7ms/step\n",
            "Epoch 70/100\n",
            "67/67 - 0s - loss: 1.2598e-04 - mae: 0.0067 - val_loss: 1.5699e-04 - val_mae: 0.0075 - 415ms/epoch - 6ms/step\n",
            "Epoch 71/100\n",
            "67/67 - 0s - loss: 1.1865e-04 - mae: 0.0063 - val_loss: 1.4734e-04 - val_mae: 0.0073 - 456ms/epoch - 7ms/step\n",
            "Epoch 72/100\n",
            "67/67 - 0s - loss: 1.4688e-04 - mae: 0.0073 - val_loss: 1.9703e-04 - val_mae: 0.0085 - 427ms/epoch - 6ms/step\n",
            "Epoch 73/100\n",
            "67/67 - 0s - loss: 1.3597e-04 - mae: 0.0070 - val_loss: 1.7351e-04 - val_mae: 0.0078 - 448ms/epoch - 7ms/step\n",
            "Epoch 74/100\n",
            "67/67 - 0s - loss: 2.0548e-04 - mae: 0.0087 - val_loss: 1.9554e-04 - val_mae: 0.0087 - 439ms/epoch - 7ms/step\n",
            "Epoch 75/100\n",
            "67/67 - 0s - loss: 2.5982e-04 - mae: 0.0099 - val_loss: 2.4814e-04 - val_mae: 0.0096 - 451ms/epoch - 7ms/step\n",
            "Epoch 76/100\n",
            "67/67 - 0s - loss: 1.6749e-04 - mae: 0.0079 - val_loss: 1.7137e-04 - val_mae: 0.0080 - 403ms/epoch - 6ms/step\n",
            "Epoch 77/100\n",
            "67/67 - 0s - loss: 1.3179e-04 - mae: 0.0070 - val_loss: 1.4073e-04 - val_mae: 0.0070 - 417ms/epoch - 6ms/step\n",
            "Epoch 78/100\n",
            "67/67 - 0s - loss: 1.0403e-04 - mae: 0.0059 - val_loss: 1.2408e-04 - val_mae: 0.0065 - 417ms/epoch - 6ms/step\n",
            "Epoch 79/100\n",
            "67/67 - 0s - loss: 1.0376e-04 - mae: 0.0058 - val_loss: 1.2433e-04 - val_mae: 0.0067 - 487ms/epoch - 7ms/step\n",
            "Epoch 80/100\n",
            "67/67 - 0s - loss: 9.8593e-05 - mae: 0.0057 - val_loss: 1.1274e-04 - val_mae: 0.0062 - 469ms/epoch - 7ms/step\n",
            "Epoch 81/100\n",
            "67/67 - 0s - loss: 8.8634e-05 - mae: 0.0052 - val_loss: 1.3268e-04 - val_mae: 0.0070 - 444ms/epoch - 7ms/step\n",
            "Epoch 82/100\n",
            "67/67 - 0s - loss: 9.5326e-05 - mae: 0.0055 - val_loss: 1.1664e-04 - val_mae: 0.0062 - 465ms/epoch - 7ms/step\n",
            "Epoch 83/100\n",
            "67/67 - 0s - loss: 1.1218e-04 - mae: 0.0060 - val_loss: 1.3832e-04 - val_mae: 0.0071 - 446ms/epoch - 7ms/step\n",
            "Epoch 84/100\n",
            "67/67 - 0s - loss: 9.7592e-05 - mae: 0.0056 - val_loss: 1.4148e-04 - val_mae: 0.0072 - 471ms/epoch - 7ms/step\n",
            "Epoch 85/100\n",
            "67/67 - 0s - loss: 1.2615e-04 - mae: 0.0066 - val_loss: 1.3755e-04 - val_mae: 0.0071 - 402ms/epoch - 6ms/step\n",
            "Epoch 86/100\n",
            "67/67 - 0s - loss: 1.2327e-04 - mae: 0.0067 - val_loss: 1.1933e-04 - val_mae: 0.0066 - 420ms/epoch - 6ms/step\n",
            "Epoch 87/100\n",
            "67/67 - 0s - loss: 1.2198e-04 - mae: 0.0065 - val_loss: 1.5983e-04 - val_mae: 0.0075 - 444ms/epoch - 7ms/step\n",
            "Epoch 88/100\n",
            "67/67 - 0s - loss: 1.2263e-04 - mae: 0.0065 - val_loss: 1.2596e-04 - val_mae: 0.0067 - 419ms/epoch - 6ms/step\n",
            "Epoch 89/100\n",
            "67/67 - 0s - loss: 9.3744e-05 - mae: 0.0055 - val_loss: 1.0285e-04 - val_mae: 0.0058 - 445ms/epoch - 7ms/step\n",
            "Epoch 90/100\n",
            "67/67 - 0s - loss: 9.1105e-05 - mae: 0.0054 - val_loss: 1.3310e-04 - val_mae: 0.0069 - 413ms/epoch - 6ms/step\n",
            "Epoch 91/100\n",
            "67/67 - 1s - loss: 1.1081e-04 - mae: 0.0062 - val_loss: 1.2238e-04 - val_mae: 0.0064 - 566ms/epoch - 8ms/step\n",
            "Epoch 92/100\n",
            "67/67 - 1s - loss: 1.0053e-04 - mae: 0.0057 - val_loss: 1.1503e-04 - val_mae: 0.0064 - 669ms/epoch - 10ms/step\n",
            "Epoch 93/100\n",
            "67/67 - 1s - loss: 1.2162e-04 - mae: 0.0065 - val_loss: 1.1310e-04 - val_mae: 0.0063 - 667ms/epoch - 10ms/step\n",
            "Epoch 94/100\n",
            "67/67 - 1s - loss: 1.3541e-04 - mae: 0.0068 - val_loss: 1.6151e-04 - val_mae: 0.0077 - 638ms/epoch - 10ms/step\n",
            "Epoch 95/100\n",
            "67/67 - 1s - loss: 2.8579e-04 - mae: 0.0100 - val_loss: 3.8769e-04 - val_mae: 0.0118 - 649ms/epoch - 10ms/step\n",
            "Epoch 96/100\n",
            "67/67 - 1s - loss: 2.5876e-04 - mae: 0.0093 - val_loss: 1.2010e-04 - val_mae: 0.0067 - 692ms/epoch - 10ms/step\n",
            "Epoch 97/100\n",
            "67/67 - 1s - loss: 1.1736e-04 - mae: 0.0064 - val_loss: 1.2290e-04 - val_mae: 0.0068 - 670ms/epoch - 10ms/step\n",
            "Epoch 98/100\n",
            "67/67 - 0s - loss: 8.8882e-05 - mae: 0.0053 - val_loss: 1.0105e-04 - val_mae: 0.0059 - 403ms/epoch - 6ms/step\n",
            "Epoch 99/100\n",
            "67/67 - 0s - loss: 7.9238e-05 - mae: 0.0048 - val_loss: 1.0605e-04 - val_mae: 0.0060 - 431ms/epoch - 6ms/step\n",
            "Epoch 100/100\n",
            "67/67 - 0s - loss: 7.4328e-05 - mae: 0.0046 - val_loss: 8.4355e-05 - val_mae: 0.0052 - 438ms/epoch - 7ms/step\n"
          ]
        },
        {
          "output_type": "display_data",
          "data": {
            "text/plain": [
              "<Figure size 640x480 with 1 Axes>"
            ],
            "image/png": "[encoded data removed]"
          },
          "metadata": {}
        }
      ]
    },
    {
      "cell_type": "code",
      "source": [
        "# Использование функции среднего значения ошибки\n",
        "average_error = calculate_average_error(model, xTrain, yTrain)  # Вызываем функцию\n",
        "print(f'Среднее значение ошибки составляет {average_error}')    # Выводим на экран среднее значение ошибки"
      ],
      "metadata": {
        "id": "V9PjLUkR4zu4",
        "colab": {
          "base_uri": "https://localhost:8080/"
        },
        "outputId": "6f519658-34a2-4875-f42e-71177c0b3aa3"
      },
      "execution_count": null,
      "outputs": [
        {
          "output_type": "stream",
          "name": "stdout",
          "text": [
            "79/79 [==============================] - 0s 2ms/step\n",
            "Среднее значение ошибки составляет 0.004\n"
          ]
        }
      ]
    },
    {
      "cell_type": "markdown",
      "source": [
        "# Проверка на тестовых данных пользователя"
      ],
      "metadata": {
        "id": "EL62hNyNB7HM"
      }
    },
    {
      "cell_type": "markdown",
      "source": [
        "Попросим пользователя ввести свои данные для предсказания (в дальнейшем это будут кнопки в телеграмм боте либо в мобильном приложении)"
      ],
      "metadata": {
        "id": "WsDusvgtXpNt"
      }
    },
    {
      "cell_type": "code",
      "source": [
        "# Просим пользователя выбрать данные о его риск-профиле и сохраняем их в переменную risk_x\n",
        "risk_x = input('Выберите ваш риск-профиль из значений (\"Консервативный\", \"Умеренный\", \"Агрессивный\"): ', )\n",
        "print(risk_x)           # Выводим данные пользователя о риск-профиле на экран\n",
        "\n",
        "# Просим пользователя выбрать данные о его возрасте и сохраняем их в переменную age_x\n",
        "age_x = input('Выберите ваш возраст из значений (\"до 18\", \"18 - 25\", \"25 - 35\", \"35 - 45\", \"45 - 55\", \"55 - 65\", \"более 65\"): ', )\n",
        "print(age_x)            # Выводим данные пользователя о возрасте на экран\n",
        "\n",
        "# Просим пользователя выбрать данные о сроке инвестирования и сохраняем их в переменную time_x\n",
        "time_x = input('Выберите ваш срок инвестирования из значений (\"до 1 года\", \"1 - 3 лет\", \"3 - 5 лет\", \"5 - 10 лет\", \"10 - 20 лет\", \"более 20 лет\"): ', )\n",
        "print(time_x)           # Выводим данные пользователя о сроке инвестирования на экран\n",
        "\n",
        "# Просим пользователя выбрать данные о стартовом капитале и сохраняем их в переменную capital_x\n",
        "capital_x = input('Выберите ваш стартовый капитал из значений (\"до 100 т.р.\", \"100 - 500 т.р.\", \"500 т.р. - 1 млн.р\", \"1 - 5 млн.р.\", \"более 5 млн.р\"): ', )\n",
        "print(capital_x)        # Выводим данные пользователя о стартовом капитале на экран\n",
        "\n",
        "# Просим пользователя выбрать данные о ежемесячных пополнениях и сохраняем их в переменную replenishment_x\n",
        "replenishment_x = input('Выберите ваши ежемесячные пополнения из значений (\"до 10 т.р.\", \"10 - 50 т.р.\", \"50 - 100 т.р.\", \"более 100 т.р.\"): ', )\n",
        "print(replenishment_x)  # Выводим данные пользователя о ежемесячных пополнениях на экран"
      ],
      "metadata": {
        "id": "77iG0fEvB9W7",
        "colab": {
          "base_uri": "https://localhost:8080/"
        },
        "outputId": "0b256ba7-6eeb-4eae-e2a0-733aea9c8e57"
      },
      "execution_count": null,
      "outputs": [
        {
          "output_type": "stream",
          "name": "stdout",
          "text": [
            "Выберите ваш риск-профиль из значений (\"Консервативный\", \"Умеренный\", \"Агрессивный\"): Агрессивный\n",
            "Агрессивный\n",
            "Выберите ваш возраст из значений (\"до 18\", \"18 - 25\", \"25 - 35\", \"35 - 45\", \"45 - 55\", \"55 - 65\", \"более 65\"): 35 - 45\n",
            "35 - 45\n",
            "Выберите ваш срок инвестирования из значений (\"до 1 года\", \"1 - 3 лет\", \"3 - 5 лет\", \"5 - 10 лет\", \"10 - 20 лет\", \"более 20 лет\"): 10 - 20 лет\n",
            "10 - 20 лет\n",
            "Выберите ваш стартовый капитал из значений (\"до 100 т.р.\", \"100 - 500 т.р.\", \"500 т.р. - 1 млн.р\", \"1 - 5 млн.р.\", \"более 5 млн.р\"): 1 - 5 млн.р.\n",
            "1 - 5 млн.р.\n",
            "Выберите ваши ежемесячные пополнения из значений (\"до 10 т.р.\", \"10 - 50 т.р.\", \"50 - 100 т.р.\", \"более 100 т.р.\"): 50 - 100 т.р.\n",
            "50 - 100 т.р.\n"
          ]
        }
      ]
    },
    {
      "cell_type": "code",
      "source": [
        "# Создаем функцию для создания датафрейма (данных пользователя сведеных в Pandas таблицу)\n",
        "def create_dataset(columns, index, data):                         # Задаем функцию create_dataset\n",
        "    dataset_x = pd.DataFrame(data, columns=columns, index=index)  # Создаем ДатаФрейм (в качестве параметров передаем называние столбцов, индексы и сами данные)\n",
        "    return dataset_x                                              # Функция возвратит значение dataset_x"
      ],
      "metadata": {
        "id": "Y8yRCvED4p8l"
      },
      "execution_count": null,
      "outputs": []
    },
    {
      "cell_type": "code",
      "source": [
        "# Вызовим функцию создания датафрейма\n",
        "columns = ['Риск профиль', 'Возраст', 'Срок инвестирования', 'Начальный капитал', 'Ежемесячные пополнения']  # Создаем список, в котором будут храниться названия столбцов.\n",
        "index = ['Данные пользователя']                                                                              # Создаем список, в котором будут индексы строк\n",
        "data = [[risk_x, age_x, time_x, capital_x, replenishment_x]]                                                 # Создаем список с данными, строка таблицы - отдельный список\n",
        "dataset_x = create_dataset(columns, index, data)                                                             # Создаем ДатаФрейм (в качестве параметров передаем называние столбцов, индексы и сами данные)"
      ],
      "metadata": {
        "id": "IOa-QeMS5cKe"
      },
      "execution_count": null,
      "outputs": []
    },
    {
      "cell_type": "markdown",
      "source": [
        "Обработаем данные пользователя с помощью созданных функций.\n",
        "Создадим тестовую выборку\n",
        "\n",
        "---\n",
        "\n"
      ],
      "metadata": {
        "id": "SUNcQTH8qPZb"
      }
    },
    {
      "cell_type": "code",
      "source": [
        "# Создаем функцию для формирования тестовой выборки\n",
        "def get02Data(values):         # Задаем функцию get02Data\n",
        "  xTest = []                   # Создаем пустой список xTest\n",
        "  for val in values:           # Проходим цилом\n",
        "    x = getAllParameters(val)  # В x записываем значения\n",
        "    xTest.append(x)            # Значения x добавляем в выборку\n",
        "  xTest = np.array(xTest)      # Преобразуем выборку xTest в NumPy массив\n",
        "  return (xTest)               # Функция возвратит значения xTest"
      ],
      "metadata": {
        "id": "aEd4I15Unf55"
      },
      "execution_count": null,
      "outputs": []
    },
    {
      "cell_type": "code",
      "source": [
        "(xTest) = get02Data(dataset_x.values) # Извлекаем значения загруженного тестового набора данных"
      ],
      "metadata": {
        "id": "x2ycmbpaoWbT"
      },
      "execution_count": null,
      "outputs": []
    },
    {
      "cell_type": "code",
      "source": [
        "# Создаем функцию, которая принимает модель нейронной сети и данные xTest в качестве аргументов\n",
        "def predict_portfolio(xTest):                                    # Создаем функцию predict_portfolio\n",
        "  prediction = model.predict(xTest)                              # Подаем данные пользователя xTest, в обученную нейронную сеть, и получаем результат распознования\n",
        "  # Преобразуем полученные данные\n",
        "  prediction_n = (prediction.ravel().round(1) * 100).astype(int) # округляем полученные данные, умножаем на 100, приводим к типу int\n",
        "  portfolio_share = prediction_n.tolist()                        # преобразуем в список\n",
        "  # Заносим в переменную строку с результатом предсказания\n",
        "  result = f'Состав вашего портфеля: Доля акций {portfolio_share[0]} %, Доля облигаций {portfolio_share[1]} %, Доля депозита {portfolio_share[2]} %'\n",
        "\n",
        "  return result                                                  # Функция возвратит значения result"
      ],
      "metadata": {
        "id": "5KyAHNSihKdn"
      },
      "execution_count": null,
      "outputs": []
    },
    {
      "cell_type": "code",
      "source": [
        "# Вызываем функцию предсказания\n",
        "prediction_result = predict_portfolio(xTest) # Вызываем функцию\n",
        "print(prediction_result)                     # Выводим результат предсказания модели на данных пользователя на экран"
      ],
      "metadata": {
        "colab": {
          "base_uri": "https://localhost:8080/"
        },
        "id": "FVjLfzrUhKpR",
        "outputId": "e916e496-d429-4fbf-83b7-6d1ea2c6c830"
      },
      "execution_count": null,
      "outputs": [
        {
          "output_type": "stream",
          "name": "stdout",
          "text": [
            "1/1 [==============================] - 0s 20ms/step\n",
            "Состав вашего портфеля: Доля акций 20 %, Доля облигаций 60 %, Доля депозита 20 %\n"
          ]
        }
      ]
    }
  ]
}